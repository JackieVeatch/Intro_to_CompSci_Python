{
 "cells": [
  {
   "cell_type": "markdown",
   "id": "d98de60f-c390-4e3f-87e7-a619750f4ade",
   "metadata": {},
   "source": [
    "### Computer Science at Falmouth Academy, Workbook 2\n",
    "In this notebook, we will practice navigating a Jupyter notebook and learn about \"loops\", which are the base of many simple games.\n",
    "\n",
    "In the cell below, enter \"Markdown\" mode and write your name. Then, create add a new cell in \"Code\" mode and solve a math problem."
   ]
  },
  {
   "cell_type": "code",
   "execution_count": null,
   "id": "3edb3b2c-56ff-4297-a788-3ecf5d55f75f",
   "metadata": {},
   "outputs": [],
   "source": []
  },
  {
   "cell_type": "markdown",
   "id": "1b9e9fb9-32aa-4815-b28e-dfd0bfdaf255",
   "metadata": {},
   "source": [
    "### For Loops and Condistional Statements : making your code work for you!!"
   ]
  },
  {
   "cell_type": "markdown",
   "id": "6842f578-8908-48d0-88ef-be31f4396326",
   "metadata": {},
   "source": [
    "We will use a 'conditional statement' to make a small program that makes a decision,\n",
    "\n",
    "And a 'for loop' to iterate through multiple things and do some action\n",
    "\n",
    "these two little programs will provide an intro to some syntax in python\n",
    "\n",
    "## `if` statement\n",
    "\n",
    "### how do you write your code to make choices?\n",
    "\n",
    "an `if` statement is a special construct that checks if some criteria is true. If its true, the code moves on one line to execute a command. If it's not true the next line is not run\n",
    "```python\n",
    "if [some statement]:\n",
    "    print('[some statement] is true')\n",
    "\n",
    "```\n",
    "\n",
    "in the example above if the thing following the `if` is true, then python runs the following line, if it is false, then the next line is skipped. \n",
    "\n",
    "note the structure of the if statement: `if` something is followed by `:`, then the next line is indented with a `tab`. Everything that is indented following `if [some statement]:` is *inside* the if statement"
   ]
  },
  {
   "cell_type": "code",
   "execution_count": null,
   "id": "749d48f8-15d6-4ff1-95e0-aff543b0a43d",
   "metadata": {},
   "outputs": [],
   "source": [
    "if 20 > 10:\n",
    "    print('so true')"
   ]
  },
  {
   "cell_type": "code",
   "execution_count": null,
   "id": "32b2eae9-1f2c-4939-a243-7be641bd9949",
   "metadata": {},
   "outputs": [],
   "source": [
    "# change the above so it's not true. what happens?\n",
    "\n",
    "if 8 > 10:\n",
    "    print('so true')"
   ]
  },
  {
   "cell_type": "markdown",
   "id": "c6e2db3f-4aa8-4fa2-adf2-aa7fea1f219d",
   "metadata": {},
   "source": [
    "Bonus Question: What is the phrase after the # symbol called? <br>\n",
    "Bonus Bonus Question: Why do we use these?"
   ]
  },
  {
   "cell_type": "markdown",
   "id": "31521b47-8a78-41f5-a28d-5703e0857e98",
   "metadata": {},
   "source": [
    "if statements can be more complex, you can build multiple options using the follow-on conditional checks elif (i.e. 'else if') and else\n",
    "\n",
    "using these you can check for lots of conditions and have you code branch out in many directions"
   ]
  },
  {
   "cell_type": "code",
   "execution_count": null,
   "id": "c99b4b3b-27fa-4cb7-a673-47fab3125bb8",
   "metadata": {},
   "outputs": [],
   "source": [
    "# use a variable that we can change to check several conditions\n",
    "# change the value of x and see how that changes the output\n",
    "\n",
    "x = 100\n",
    "if x > 0:\n",
    "    print('Positive Number')\n",
    "elif x < 0:\n",
    "    print('Negative Number')\n",
    "else:\n",
    "    print ('Zero!')"
   ]
  },
  {
   "cell_type": "markdown",
   "id": "49236797-929b-4852-8be8-248e362f16a7",
   "metadata": {},
   "source": [
    "(1) change the value of x above and run the cell again. Do this three times, once to print \"Postitive Number\", once to print \"Negative Number\" and once to print \"Zero!\""
   ]
  },
  {
   "cell_type": "markdown",
   "id": "a9fa2518-14f5-47f8-a905-8142b496009b",
   "metadata": {},
   "source": [
    "(2) turn to the person next to you and together write a new `if` statement"
   ]
  },
  {
   "cell_type": "markdown",
   "id": "63d02d68-ff3e-4772-bdc3-409c4c61f340",
   "metadata": {},
   "source": [
    "## `for` loop\n",
    "\n",
    "the `for` loop is another very important structure in programming that allows you to iterate over a group of things and do some action many times without repeating lines of code.\n",
    "\n",
    "There are a number of reasons we don't want to have to repreat code. Let explore this\n",
    "\n",
    "As an example, let's say have a `variable` called `word` which was assigned the string `\"lead\"`."
   ]
  },
  {
   "cell_type": "code",
   "execution_count": null,
   "id": "2b991d1d-f226-4fa4-8c22-3eed8f97401b",
   "metadata": {},
   "outputs": [],
   "source": [
    "word = 'lead'\n",
    "print(word)"
   ]
  },
  {
   "cell_type": "markdown",
   "id": "f02f9250-46d1-41ac-a6e8-4cb9b0beda29",
   "metadata": {},
   "source": [
    "We can access a character in a string using indexing.\n",
    "\n",
    "For example, we can get the first character of the word `lead`, by using `word[0]`. \n",
    "\n",
    "**Remember!** in python we count from 0, so the first letter in `word` is in position `0` and the second letter is in position `"
   ]
  },
  {
   "cell_type": "code",
   "execution_count": null,
   "id": "a810c13f-54f6-4cd3-b612-f6797cd53433",
   "metadata": {},
   "outputs": [],
   "source": [
    "# print the first letter in the variable word\n",
    "# note! python starts with 0\n",
    "word[0]"
   ]
  },
  {
   "cell_type": "code",
   "execution_count": null,
   "id": "9972b4df-1b95-4a3e-9ac2-16f013746dc0",
   "metadata": {},
   "outputs": [],
   "source": [
    "print(word[0])\n",
    "print(word[1])\n",
    "print(word[2])\n",
    "print(word[3])"
   ]
  },
  {
   "cell_type": "markdown",
   "id": "61b840d8-5e2f-4c4a-b60a-5e3e906d4b9f",
   "metadata": {},
   "source": [
    "This is a bad approach for three reasons:\n",
    "\n",
    "- **Not scalable**. Imagine you need to print characters of a string that is hundreds of letters long. It might be easier just to type them in manually.\n",
    "\n",
    "- **Difficult to maintain**. If we want to decorate each printed character with an asterix or any other character, we would have to change four lines of code. While this might not be a problem for short strings, it would definitely be a problem for longer ones.\n",
    "\n",
    "- **Fragile**. If we use it with a word that has more characters than what we initially envisioned, it will only display part of the word’s characters. A shorter string, on the other hand, will cause an error because it will try to index characters that are out of range of amount of characters in your variable `word`\n",
    "\n",
    "In summary: we want to make **flexible** code that can easily by scaled, edited, and built upon!"
   ]
  },
  {
   "cell_type": "code",
   "execution_count": null,
   "id": "94b225d1-0f88-447a-bcd8-e6e42253e218",
   "metadata": {},
   "outputs": [],
   "source": [
    "word = 'lead'\n",
    "for char in word:\n",
    "    print(char)"
   ]
  },
  {
   "cell_type": "markdown",
   "id": "9092c9d0-f234-4a5c-8465-57dda2547c3b",
   "metadata": {},
   "source": [
    "Do you recognize the structure there?\n",
    "\n",
    "This is shorter — certainly shorter than something that prints every character in a hundred-letter string — and more robust as well:"
   ]
  },
  {
   "cell_type": "code",
   "execution_count": null,
   "id": "a4b19f85-dc91-413e-99e1-286b226fe5ad",
   "metadata": {},
   "outputs": [],
   "source": [
    "word = \"oxygen\"\n",
    "for char in word:\n",
    "    print(char)"
   ]
  },
  {
   "cell_type": "markdown",
   "id": "8c786b24-ecca-4f38-abbe-14cb356c2c5c",
   "metadata": {},
   "source": [
    "### `For` loop structure\n",
    "The improved version uses a `for` loop to repeat an operation — in this case, printing — once for each thing in a sequence. The general form of a loop is:\n",
    "```python\n",
    "for element in collection:\n",
    "    do things using element\n",
    "```\n",
    "\n",
    "How many loops did the `for` loop above execute?\n",
    "\n",
    "We can call the loop variable anything we like, but there must be a colon, `:`, at the end of the line starting the loop, and we must **indent** anything we want to run inside the loop. Unlike many other languages, there is no command to signify the end of the loop body (e.g. end ); **what is indented after the for statement belongs to the loop.**\n",
    "\n",
    "In the example above, the loop variable was given the name `char` as a mnemonic; it is short for ‘character’. We can choose any name we want for variables. We might just as easily have chosen the name `banana` for the loop variable, as long as we use the same name when we invoke the variable inside the loop:"
   ]
  },
  {
   "cell_type": "code",
   "execution_count": null,
   "id": "f4e13bcf-4bc3-44e7-a487-559d651b9043",
   "metadata": {},
   "outputs": [],
   "source": [
    "word = \"oxygen\"\n",
    "for banana in word:\n",
    "    print(banana)"
   ]
  },
  {
   "cell_type": "markdown",
   "id": "fe4fc814-46fa-44ac-811b-eb86c33e5e6e",
   "metadata": {},
   "source": [
    "Here’s another loop that repeatedly updates a variable:"
   ]
  },
  {
   "cell_type": "code",
   "execution_count": null,
   "id": "137be10e-8407-4e9c-9e7d-16afd931337d",
   "metadata": {},
   "outputs": [],
   "source": [
    "length = 0\n",
    "for vowel in 'aeiou':\n",
    "    length = length + 1\n",
    "print('There are', length, 'vowels')"
   ]
  },
  {
   "cell_type": "markdown",
   "id": "35e4f066-a436-4c30-96d9-e026fc23ea1f",
   "metadata": {},
   "source": [
    "### From 1 to N ###\n",
    "\n",
    "Python has a built-in function called `range()` that creates a sequence of numbers. `range` can accept 1, 2, or 3 parameters.\n",
    "\n",
    "- If one parameter is given, `range` creates an array of that length, starting at zero and incrementing by 1. For example, `range(3)` produces the numbers 0, 1, 2.\n",
    "- If two parameters are given, `range` starts at the first and ends just before the second, incrementing by one. For example, `range(2, 5)` produces 2, 3, 4.\n",
    "- If `range` is given 3 parameters, it starts at the first one, ends just before the second one, and increments by the third one. For exmaple `range(3, 10, 2)` produces 3, 5, 7, 9.\n",
    "\n",
    "\n",
    "Using range, we can write a loop to print 0 , 1, 2."
   ]
  },
  {
   "cell_type": "code",
   "execution_count": null,
   "id": "bd30edfa-cd0b-4aec-b5d4-50297c5c8fb1",
   "metadata": {},
   "outputs": [],
   "source": [
    "for banana in range(3):\n",
    "    print(banana)"
   ]
  },
  {
   "cell_type": "markdown",
   "id": "74236e0a-6004-463e-a495-19690d8ae7e1",
   "metadata": {},
   "source": [
    "## Reverse a String ##\n",
    "\n",
    "knowing that strings can be concatenated using the `+`, write a loop that takes a string, and produces a new string with the characters in reverse order, so `'Newton'` becomes `'notweN'`\n",
    "\n",
    "```python\n",
    "newstr = ''\n",
    "oldstr = 'Newton'\n",
    "\n",
    "for ___ in ____:\n",
    "    newstr = ___ + newstr\n",
    "    \n",
    "print(newstr)\n",
    "\n",
    "```"
   ]
  },
  {
   "cell_type": "markdown",
   "id": "5a0b2359-a3e4-46af-a286-95e6678b24e7",
   "metadata": {},
   "source": [
    "### Building a Game\n",
    "Below is a simple game using 'while', 'if', 'elif', and 'else' statements <br>\n",
    "run the cell to play the game!"
   ]
  },
  {
   "cell_type": "code",
   "execution_count": null,
   "id": "fd79f4d8-72af-4415-8f71-9c57f35ef0c2",
   "metadata": {},
   "outputs": [],
   "source": [
    "import random # this is a function from the python library that we want to use, so we \"import\" it into our notebook\n",
    "\n",
    "print(\"Welcome to Guess the Number!\")\n",
    "print(\"I'm thinking of a number between 1 and 20.\")\n",
    "\n",
    "secret_number = random.randint(1, 20) # here is where we use a function from the \"random\" library\n",
    "attempts = 0\n",
    "\n",
    "while True:\n",
    "    try:\n",
    "        guess = int(input(\"Take a guess: \"))\n",
    "    except ValueError:\n",
    "        print(\"Invalid input. Please enter a whole number.\")\n",
    "        continue\n",
    "\n",
    "    attempts += 1\n",
    "\n",
    "    if guess < secret_number:\n",
    "        print(\"Your guess is too low.\")\n",
    "    elif guess > secret_number:\n",
    "        print(\"Your guess is too high.\")\n",
    "    else:\n",
    "        print(f\"Good job! You guessed my number in {attempts} attempts!\")\n",
    "        break\n"
   ]
  },
  {
   "cell_type": "markdown",
   "id": "e5f81737-61bb-40c3-8c39-0544440e3ec4",
   "metadata": {},
   "source": [
    "To erase the output of your previous game, go to the \"kernal\" tab on the top left and select \"Restart Kernal and clear output of all cells\" <br>\n",
    "Next edit the game somehow and play again. For example, you could make the range of possible random numbers larger or smaller, or implement a maximum amount of attempts the player can make."
   ]
  },
  {
   "cell_type": "code",
   "execution_count": null,
   "id": "88eda9b3-c540-4f68-8db3-cb3b1a6e9bef",
   "metadata": {},
   "outputs": [],
   "source": []
  }
 ],
 "metadata": {
  "kernelspec": {
   "display_name": "Python [conda env:base] *",
   "language": "python",
   "name": "conda-base-py"
  },
  "language_info": {
   "codemirror_mode": {
    "name": "ipython",
    "version": 3
   },
   "file_extension": ".py",
   "mimetype": "text/x-python",
   "name": "python",
   "nbconvert_exporter": "python",
   "pygments_lexer": "ipython3",
   "version": "3.12.7"
  }
 },
 "nbformat": 4,
 "nbformat_minor": 5
}

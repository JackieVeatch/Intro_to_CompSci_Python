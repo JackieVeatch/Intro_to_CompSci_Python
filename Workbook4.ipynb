{
 "cells": [
  {
   "cell_type": "markdown",
   "id": "30cbb39b-50a0-48e0-817b-15cf965871f4",
   "metadata": {},
   "source": [
    "### Computer Science at Falmouth Academy, Workbook 4\n",
    "#### In this notebook we will practice for loops and conditional statement, and learn how to combine them"
   ]
  },
  {
   "cell_type": "markdown",
   "id": "d46315e9-0270-4fb4-9f28-c9e8f950b996",
   "metadata": {},
   "source": [
    "Write a Python program that prints the squares of the numbers from 1 to 10."
   ]
  },
  {
   "cell_type": "code",
   "execution_count": null,
   "id": "16389dab-9a94-42c7-a167-a58649c833fc",
   "metadata": {},
   "outputs": [],
   "source": [
    "# Print squares of numbers from 1 to 10\n",
    "\n",
    "var = __\n",
    "for ___ in ___:   # fill in the blanks\n",
    "    square = __ * __\n",
    "    print(square)"
   ]
  },
  {
   "cell_type": "markdown",
   "id": "703146b6-4419-4e30-8d4f-eeda76d18394",
   "metadata": {},
   "source": [
    "Write a Python program that asks the user for a number and then prints whether it is positive, negative, or zero."
   ]
  },
  {
   "cell_type": "code",
   "execution_count": null,
   "id": "edd90e11-268b-4cbc-9c76-c70f977b12ba",
   "metadata": {},
   "outputs": [],
   "source": [
    "# Check if a number is positive, negative, or zero\n",
    "\n",
    "number = int(input(\"Enter a number: \"))\n",
    "\n",
    "if ___:        # fill in condition for positive\n",
    "    print(\"The number is positive.\")\n",
    "elif ___:      # fill in condition for negative\n",
    "    print(\"The number is negative.\")\n",
    "____:\n",
    "    print(\"The number is zero.\")"
   ]
  },
  {
   "cell_type": "markdown",
   "id": "5d599a4b-208e-410c-b63c-e91c0f3fc71c",
   "metadata": {},
   "source": [
    "Create a list of names (for example: \"Cady\", \"Regina\", \"Gretchen\", \"Karen\").\n",
    "Ask the user to enter a name.\n",
    "\n",
    "If the name is in the list, print:\n",
    "\"Welcome, <name>!\"\n",
    "\n",
    "If the name is not in the list, print:\n",
    "\"She doesn't even go here!\""
   ]
  },
  {
   "cell_type": "code",
   "execution_count": null,
   "id": "61b2a3d0-b1e9-4374-82c6-0bea8fdb44c7",
   "metadata": {},
   "outputs": [],
   "source": [
    "# List of names\n",
    "names = [\"____\", \"____\", \"____\", \"____\"]\n",
    "\n",
    "# Ask user for a name\n",
    "user_name = input(\"Enter a name: \")\n",
    "\n",
    "# Check if the name is in the list\n",
    "if ___ in ___:       # fill in the blanks\n",
    "    print(\"Welcome,\", user_name + \"!\")\n",
    "else:\n",
    "    print(\"She doesn't even go here!\")\n"
   ]
  },
  {
   "cell_type": "markdown",
   "id": "93b81941-ca7e-4d2c-a18d-9b1cf8004392",
   "metadata": {},
   "source": [
    "Given a list of exam scores, print one line per score:\n",
    "\n",
    "\"Pass\" if the score is ≥ 60\n",
    "\n",
    "\"Excellent\" if the score is ≥ 90\n",
    "\n",
    "\"Fail\" otherwise\n",
    "\n",
    "At the end, also print how many students passed (including “Excellent”)."
   ]
  },
  {
   "cell_type": "code",
   "execution_count": null,
   "id": "f85186c1-02da-4005-8c1f-aadcf181da02",
   "metadata": {},
   "outputs": [],
   "source": [
    "scores = [55, 72, 91, 60, 47, 88, 99]\n",
    "\n",
    "passed_count = 0\n",
    "\n",
    "for s in scores:\n",
    "    if ___:  # score is Excellent\n",
    "        print(s, \"-> Excellent\")\n",
    "        ___      # update passed_count\n",
    "    elif ___:  # score is Pass (but not Excellent)\n",
    "        print(s, \"-> Pass\")\n",
    "        ___      # update passed_count\n",
    "    else:\n",
    "        print(s, \"-> Fail\")\n",
    "\n",
    "print(\"Total passed:\", ___)\n"
   ]
  },
  {
   "cell_type": "markdown",
   "id": "ec62c433-684f-4647-8212-a799fa5e065c",
   "metadata": {},
   "source": [
    "You’re delivering candy canes at North Shore. Given a class roster and a list of deliveries (each item is the name that got one candy cane), write a program that:\n",
    "\n",
    "Counts how many candy canes each student received.\n",
    "\n",
    "Prints one line per student:\n",
    "\n",
    "If the student is \"Glen Coco\" and he got 4 or more, print: You go, Glen Coco!\n",
    "\n",
    "Else print: <name> got <count> candy cane(s).\n",
    "\n",
    "If a name in deliveries isn’t on the roster, print: \"<name> doesn't even go here!\""
   ]
  },
  {
   "cell_type": "code",
   "execution_count": 11,
   "id": "93e905d5-6bd5-4fbf-8a21-4d3c505fef2c",
   "metadata": {},
   "outputs": [
    {
     "name": "stdout",
     "output_type": "stream",
     "text": [
      "Janis doesn't even go here!\n",
      "Cady got 1 candy cane(s).\n",
      "Gretchen got 1 candy cane(s).\n",
      "Regina got 1 candy cane(s).\n",
      "Karen got 0 candy cane(s).\n",
      "You go, Glen Coco!\n",
      "Damian got 0 candy cane(s).\n"
     ]
    }
   ],
   "source": [
    "roster = [\"Cady\", \"Gretchen\", \"Regina\", \"Karen\", \"Glen Coco\", \"Damian\"]\n",
    "deliveries = [\"Glen Coco\", \"Glen Coco\", \"Gretchen\", \"Glen Coco\",\n",
    "              \"Regina\", \"Glen Coco\", \"Cady\", \"Janis\"]\n",
    "\n",
    "# 1) start everyone at 0\n",
    "counts = {name: 0 for name in roster}\n",
    "\n",
    "# 2) tally deliveries; warn for unknown names\n",
    "for name in deliveries:\n",
    "    if name in roster:            # check if delivery name is on the roster\n",
    "        counts[name] += 1    # increment their count\n",
    "    else:\n",
    "        print(name + \" doesn't even go here!\")\n",
    "\n",
    "# 3) print results with the Glen Coco special\n",
    "for name in roster:\n",
    "    c = counts[name]\n",
    "    if name == \"Glen Coco\" and c>=4:    # fill condition for 4 or more\n",
    "        print(\"You go, Glen Coco!\")\n",
    "    else:\n",
    "        print(f\"{name} got {c} candy cane(s).\")\n"
   ]
  },
  {
   "cell_type": "code",
   "execution_count": 7,
   "id": "d3905c41-943e-4d76-98f2-d41178bd78a2",
   "metadata": {},
   "outputs": [
    {
     "data": {
      "text/plain": [
       "{'Cady': 0,\n",
       " 'Gretchen': 0,\n",
       " 'Regina': 0,\n",
       " 'Karen': 0,\n",
       " 'Glen Coco': 0,\n",
       " 'Damian': 0}"
      ]
     },
     "execution_count": 7,
     "metadata": {},
     "output_type": "execute_result"
    }
   ],
   "source": [
    "counts"
   ]
  },
  {
   "cell_type": "code",
   "execution_count": null,
   "id": "171aef1c-d2d8-4c42-8928-eae80324252a",
   "metadata": {},
   "outputs": [],
   "source": []
  }
 ],
 "metadata": {
  "kernelspec": {
   "display_name": "Python [conda env:base] *",
   "language": "python",
   "name": "conda-base-py"
  },
  "language_info": {
   "codemirror_mode": {
    "name": "ipython",
    "version": 3
   },
   "file_extension": ".py",
   "mimetype": "text/x-python",
   "name": "python",
   "nbconvert_exporter": "python",
   "pygments_lexer": "ipython3",
   "version": "3.12.7"
  }
 },
 "nbformat": 4,
 "nbformat_minor": 5
}

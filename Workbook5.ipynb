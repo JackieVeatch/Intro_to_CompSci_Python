{
 "cells": [
  {
   "cell_type": "markdown",
   "id": "8d47c0ec",
   "metadata": {},
   "source": [
    "# 🐞 Workbook 5: Debugging Practice\n",
    "\n",
    "\n",
    "**How to use:**\n",
    "1. Run each code cell.\n",
    "2. Read any error messages and *fix the code* so it works.\n",
    "3. Use the hints if you get stuck.\n",
    "4. Explain (in your own words) **what was wrong** and **how you fixed it**.\n",
    "\n",
    "> Tip: Common bug types include **SyntaxError**, **NameError**, **TypeError**, **IndexError**, **ValueError**, and **Logic errors** (code runs but is wrong)."
   ]
  },
  {
   "cell_type": "markdown",
   "id": "375af6a2",
   "metadata": {},
   "source": [
    "## 0) Warm‑up: Read the error\n",
    "Run this cell and read the error message. What does it tell you? Fix the bug."
   ]
  },
  {
   "cell_type": "code",
   "execution_count": 1,
   "id": "dda07f76",
   "metadata": {},
   "outputs": [
    {
     "name": "stdout",
     "output_type": "stream",
     "text": [
      "Welcome to debugging class!\n"
     ]
    }
   ],
   "source": [
    "print('Welcome to debugging class!')"
   ]
  },
  {
   "cell_type": "markdown",
   "id": "f6dea6b6",
   "metadata": {},
   "source": [
    "## 1) Syntax & Name Errors\n",
    "**Goal:** Print a friendly greeting.\n",
    "\n",
    "**Hint:** Check parentheses and variable names."
   ]
  },
  {
   "cell_type": "code",
   "execution_count": 3,
   "id": "a621954e",
   "metadata": {},
   "outputs": [
    {
     "ename": "NameError",
     "evalue": "name 'Name' is not defined",
     "output_type": "error",
     "traceback": [
      "\u001b[31m---------------------------------------------------------------------------\u001b[39m",
      "\u001b[31mNameError\u001b[39m                                 Traceback (most recent call last)",
      "\u001b[36mCell\u001b[39m\u001b[36m \u001b[39m\u001b[32mIn[3]\u001b[39m\u001b[32m, line 2\u001b[39m\n\u001b[32m      1\u001b[39m name = \u001b[33m'\u001b[39m\u001b[33mAvery\u001b[39m\u001b[33m'\u001b[39m\n\u001b[32m----> \u001b[39m\u001b[32m2\u001b[39m greet = \u001b[33mf\u001b[39m\u001b[33m'\u001b[39m\u001b[33mHello, \u001b[39m\u001b[38;5;132;01m{\u001b[39;00mName\u001b[38;5;132;01m}\u001b[39;00m\u001b[33m!\u001b[39m\u001b[33m'\u001b[39m\n\u001b[32m      3\u001b[39m \u001b[38;5;28mprint\u001b[39m(greet)\n",
      "\u001b[31mNameError\u001b[39m: name 'Name' is not defined"
     ]
    }
   ],
   "source": [
    "name = 'Avery'\n",
    "greet = f'Hello, {name}!'\n",
    "print(greet)"
   ]
  },
  {
   "cell_type": "code",
   "execution_count": 14,
   "id": "22db816f-39b2-4de1-8066-751a828c5175",
   "metadata": {},
   "outputs": [],
   "source": [
    "import numpy as np\n",
    "# np.arange?"
   ]
  },
  {
   "cell_type": "markdown",
   "id": "6c73abe0",
   "metadata": {},
   "source": [
    "## 2) Types & Casting\n",
    "**Goal:** Build the sentence: `I am 16 years old.`\n",
    "\n",
    "**Hint:** You can't add an `int` to a `str` without converting."
   ]
  },
  {
   "cell_type": "code",
   "execution_count": null,
   "id": "9ff79e09",
   "metadata": {},
   "outputs": [],
   "source": [
    "age = 16\n",
    "sentence = 'I am ' + age + ' years old.'\n",
    "print(sentence)"
   ]
  },
  {
   "cell_type": "markdown",
   "id": "bffd099c",
   "metadata": {},
   "source": [
    "## 3) Off‑by‑One Loops\n",
    "**Goal:** Sum the numbers 1 through 100 (answer should be 5050).\n",
    "\n",
    "**Hint:** Remember how `range` works."
   ]
  },
  {
   "cell_type": "code",
   "execution_count": null,
   "id": "8fb9e408",
   "metadata": {},
   "outputs": [],
   "source": [
    "total = 0\n",
    "for i in range(1, 100):\n",
    "    total += i\n",
    "print('Sum is', total)"
   ]
  },
  {
   "cell_type": "markdown",
   "id": "955425b6",
   "metadata": {},
   "source": [
    "## 4) Conditionals (Logic)\n",
    "**Goal:** Categorize test scores: A (90+), B (80-89), C (70-79), F (<70)\n",
    "\n",
    "**Hint:** The order of conditions matters."
   ]
  },
  {
   "cell_type": "code",
   "execution_count": null,
   "id": "6a596ba6",
   "metadata": {},
   "outputs": [],
   "source": [
    "score = 85\n",
    "if score >= 70:\n",
    "    grade = 'C'\n",
    "elif score >= 80:\n",
    "    grade = 'B'\n",
    "elif score >= 90:\n",
    "    grade = 'A'\n",
    "else:\n",
    "    grade = 'F'\n",
    "print('Grade:', grade)"
   ]
  },
  {
   "cell_type": "markdown",
   "id": "8d39f47e",
   "metadata": {},
   "source": [
    "## 5) Functions & Scope\n",
    "**Goal:** Return the area of a rectangle.\n",
    "\n",
    "**Hint:** Use function parameters, not outside variables."
   ]
  },
  {
   "cell_type": "code",
   "execution_count": null,
   "id": "9e66ea89",
   "metadata": {},
   "outputs": [],
   "source": [
    "def area_rect():\n",
    "    return width * height  # ← uses names not defined inside function\n",
    "\n",
    "print('Area =', area_rect())"
   ]
  },
  {
   "cell_type": "markdown",
   "id": "d88d71ce",
   "metadata": {},
   "source": [
    "## 6) Lists & Indexing\n",
    "**Goal:** Add a new number and print the maximum value.\n",
    "\n",
    "**Hint:** `append` changes the list in place and returns `None`. Also check indexing."
   ]
  },
  {
   "cell_type": "code",
   "execution_count": null,
   "id": "ffbed020",
   "metadata": {},
   "outputs": [],
   "source": [
    "nums = [3, 1, 4, 1, 5]\n",
    "new_list = nums.append(9)  # ← new_list becomes None\n",
    "print('Max is', new_list[-1])  # ← TypeError; also max should use max(nums)"
   ]
  },
  {
   "cell_type": "markdown",
   "id": "ce30151a",
   "metadata": {},
   "source": [
    "## 7) Strings (Case & Slicing)\n",
    "**Goal A:** Count vowels in a word (a, e, i, o, u) regardless of case.\n",
    "\n",
    "**Goal B:** Reverse a string using slicing.\n",
    "\n",
    "**Hint:** Use `.lower()` and slicing like `s[::-1]`."
   ]
  },
  {
   "cell_type": "code",
   "execution_count": null,
   "id": "baf1fc1c",
   "metadata": {},
   "outputs": [],
   "source": [
    "word = 'Apples'\n",
    "vowels = 'aeiou'\n",
    "count = 0\n",
    "for ch in word:\n",
    "    if ch in vowels:   # ← misses uppercase vowels\n",
    "        count += 1\n",
    "print('Vowel count:', count)\n",
    "\n",
    "text = 'debugging'\n",
    "rev = text[0:-1]   # ← not reversed; just missing last char\n",
    "print('Reversed:', rev)"
   ]
  },
  {
   "cell_type": "markdown",
   "id": "adb9ef1b",
   "metadata": {},
   "source": [
    "## 8) Files: Read Safely\n",
    "**Goal:** Read and print the first line of `sample.txt`.\n",
    "\n",
    "**Hint:** Use `with open(...) as f:` and handle missing files with `try/except`."
   ]
  },
  {
   "cell_type": "code",
   "execution_count": null,
   "id": "1e94a0c5",
   "metadata": {},
   "outputs": [],
   "source": [
    "# Create a small file for you to read\n",
    "with open('sample.txt', 'w') as f:\n",
    "    f.write('Hello from sample.txt!\\nSecond line here.')\n",
    "\n",
    "# TODO: Fix the bugs below\n",
    "f = open('samples.txt')  # ← wrong filename\n",
    "print(f.readline)\n",
    "f.close()"
   ]
  },
  {
   "cell_type": "markdown",
   "id": "57d67cc8",
   "metadata": {},
   "source": [
    "## 9) Plotting with Matplotlib\n",
    "**Goal:** Plot months vs. temperatures with labels and a title.\n",
    "\n",
    "**Hint:** X and Y must be the same length; label axes; show the plot."
   ]
  },
  {
   "cell_type": "code",
   "execution_count": null,
   "id": "0dd17153",
   "metadata": {},
   "outputs": [],
   "source": [
    "import matplotlib.pyplot as plt\n",
    "\n",
    "months = ['Jan','Feb','Mar','Apr','May']\n",
    "temps  = [30, 35, 50, 55]\n",
    "plt.plot(months, temps)\n",
    "plt.title('Average Temps')\n",
    "plt.xlabel('Month')\n",
    "plt.ylabel('Temp (F)')\n",
    "plt.show()"
   ]
  },
  {
   "cell_type": "markdown",
   "id": "fda4c71b",
   "metadata": {},
   "source": [
    "## 10) NumPy Shapes & Axes\n",
    "**Goal:** Compute the mean of each column.\n",
    "\n",
    "**Hint:** Use `axis=0` for column means."
   ]
  },
  {
   "cell_type": "code",
   "execution_count": null,
   "id": "e3309ad8",
   "metadata": {},
   "outputs": [],
   "source": [
    "import numpy as np\n",
    "A = np.array([[1,2,3],[4,5,6]])\n",
    "col_means = np.mean(A, axis=1)\n",
    "print('Column means:', col_means)"
   ]
  },
  {
   "cell_type": "markdown",
   "id": "aed95a4b",
   "metadata": {},
   "source": [
    "## 11) Pandas Basics\n",
    "**Goal:** Read a CSV and compute the average.\n",
    "\n",
    "**Hint:** Check the delimiter and column names; handle missing values."
   ]
  },
  {
   "cell_type": "code",
   "execution_count": null,
   "id": "d80609e0",
   "metadata": {},
   "outputs": [],
   "source": [
    "import pandas as pd\n",
    "\n",
    "# Create a small CSV\n",
    "with open('scores.csv', 'w') as f:\n",
    "    f.write('name,score\\nAva,90\\nBen, ,\\nCara,85\\nDan,78')\n",
    "\n",
    "# Buggy read and calc\n",
    "df = pd.read_csv('scores.csv', delimiter=';')  # ← wrong delimiter\n",
    "print(df)\n",
    "avg = df['points'].mean()  # ← wrong column name\n",
    "print('Average score:', avg)"
   ]
  },
  {
   "cell_type": "markdown",
   "id": "6e02e751",
   "metadata": {},
   "source": [
    "## 12) Bonus Challenge: Word Count\n",
    "**Goal:** Write a function `word_count(s)` that returns how many words are in the string `s`.\n",
    "\n",
    "**Hint:** Consider extra spaces. You can use `split()` with no arguments."
   ]
  },
  {
   "cell_type": "code",
   "execution_count": null,
   "id": "0a2c73f6",
   "metadata": {},
   "outputs": [],
   "source": [
    "def word_count(s):\n",
    "    \n",
    "    return len(s)\n",
    "\n",
    "print(word_count('  this   is   fine  '))  # should be 3"
   ]
  }
 ],
 "metadata": {
  "kernelspec": {
   "display_name": "Python [conda env:ocean_py311]",
   "language": "python",
   "name": "conda-env-ocean_py311-py"
  },
  "language_info": {
   "codemirror_mode": {
    "name": "ipython",
    "version": 3
   },
   "file_extension": ".py",
   "mimetype": "text/x-python",
   "name": "python",
   "nbconvert_exporter": "python",
   "pygments_lexer": "ipython3",
   "version": "3.11.14"
  }
 },
 "nbformat": 4,
 "nbformat_minor": 5
}

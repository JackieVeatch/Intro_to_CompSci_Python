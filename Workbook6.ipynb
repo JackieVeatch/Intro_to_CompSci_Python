{
 "cells": [
  {
   "cell_type": "markdown",
   "id": "9bc0cae5",
   "metadata": {},
   "source": [
    "\n",
    "# Workbook 6: Intro to Functions\n",
    "\n",
    "first, try the do-now! <br>\n",
    "in the cell below, demonstrate something that you have learned in this course by writing a piece of code. It can be whatever you'd like!"
   ]
  },
  {
   "cell_type": "code",
   "execution_count": null,
   "id": "bd6b4805-c070-491b-b1e6-1317ea1b3905",
   "metadata": {},
   "outputs": [],
   "source": []
  },
  {
   "cell_type": "markdown",
   "id": "a0f067ce-e027-4c63-86d9-2dba0ede1bec",
   "metadata": {},
   "source": [
    "**What you'll learn today**\n",
    "- What functions are and why we use them\n",
    "- How to define and call functions\n",
    "- Parameters vs. arguments (positional & keyword), default values\n",
    "- Returning values\n",
    "- Scope (local vs. global)\n",
    "- Writing good docstrings & using simple type hints\n",
    "- Common errors & how to debug\n",
    "- Practice exercises with lightweight tests"
   ]
  },
  {
   "cell_type": "markdown",
   "id": "8c2ffa9a",
   "metadata": {},
   "source": [
    "\n",
    "## 1. What is a function?\n",
    "A **function** is a reusable block of code that performs a single, well-defined task.\n",
    "\n",
    "**Why functions?**\n",
    "- Avoid repetition (DRY: *Don't Repeat Yourself*)\n",
    "- Organize code into logical pieces\n",
    "- Make code easier to test and debug\n",
    "- Enable collaboration by defining clear interfaces\n"
   ]
  },
  {
   "cell_type": "code",
   "execution_count": 7,
   "id": "19b4642d",
   "metadata": {},
   "outputs": [
    {
     "name": "stdout",
     "output_type": "stream",
     "text": [
      "Hello, world!\n"
     ]
    }
   ],
   "source": [
    "\n",
    "def say_hello():\n",
    "    \"\"\"Print a friendly greeting.\"\"\"\n",
    "    print(\"Hello, world!\")\n",
    "\n",
    "# Call the function:\n",
    "say_hello()\n"
   ]
  },
  {
   "cell_type": "markdown",
   "id": "2b35142c",
   "metadata": {},
   "source": [
    "\n",
    "## 2. Anatomy of a function\n",
    "```python\n",
    "def name_of_function(parameter1, parameter2=default_value):\n",
    "    \"\"\"Short docstring describing what this function does.\"\"\"\n",
    "    # body (optional: compute something)\n",
    "    return result  # optional\n",
    "```\n",
    "Key parts:\n",
    "- `def` keyword starts the definition\n",
    "- A **name** that follows variable naming rules\n",
    "- **Parameters** inside parentheses\n",
    "- An optional **docstring** describing the behavior\n",
    "- A **return** statement (optional)\n"
   ]
  },
  {
   "cell_type": "code",
   "execution_count": 9,
   "id": "9dd3b3ee",
   "metadata": {},
   "outputs": [
    {
     "name": "stdout",
     "output_type": "stream",
     "text": [
      "12\n",
      "20\n",
      "30\n"
     ]
    }
   ],
   "source": [
    "\n",
    "def area_of_rectangle(width, height):\n",
    "    \"\"\"Return the area of a rectangle given width and height.\"\"\"\n",
    "    return width * height\n",
    "\n",
    "# Positional arguments\n",
    "print(area_of_rectangle(3, 4))\n",
    "\n",
    "# Keyword arguments\n",
    "print(area_of_rectangle(height=10, width=2))\n",
    "\n",
    "# Mixing: positional first, then keyword\n",
    "print(area_of_rectangle(5, height=6))\n"
   ]
  },
  {
   "cell_type": "code",
   "execution_count": 11,
   "id": "de70be4d",
   "metadata": {},
   "outputs": [
    {
     "name": "stdout",
     "output_type": "stream",
     "text": [
      "Hello, Alex!\n",
      "Hello, Riley!!!\n"
     ]
    }
   ],
   "source": [
    "\n",
    "def greet(name, punctuation=\"!\"):\n",
    "    \"\"\"Return a greeting string with optional punctuation (default: !).\"\"\"\n",
    "    return f\"Hello, {name}{punctuation}\"\n",
    "\n",
    "print(greet(\"Alex\"))\n",
    "print(greet(\"Riley\", punctuation=\"!!!\"))\n"
   ]
  },
  {
   "cell_type": "code",
   "execution_count": 13,
   "id": "8c2d7d95",
   "metadata": {},
   "outputs": [
    {
     "name": "stdout",
     "output_type": "stream",
     "text": [
      "min: -2 max: 9\n"
     ]
    }
   ],
   "source": [
    "\n",
    "def min_max(values):\n",
    "    \"\"\"Return a tuple (min_value, max_value) from a list of numbers.\"\"\"\n",
    "    if not values:\n",
    "        return None, None\n",
    "    return min(values), max(values)\n",
    "\n",
    "nums = [3, 9, -2, 5, 9]\n",
    "mn, mx = min_max(nums)\n",
    "print(\"min:\", mn, \"max:\", mx)\n"
   ]
  },
  {
   "cell_type": "markdown",
   "id": "df4e97cd",
   "metadata": {},
   "source": [
    "\n",
    "## 3. Scope (where names live)\n",
    "- **Local**: names created inside a function (parameters, temporary variables)\n",
    "- **Global**: names created at the top level of a module (this notebook cell, for example)\n",
    "\n",
    "Rule of thumb: prefer passing values in and returning values out, rather than modifying globals.\n"
   ]
  },
  {
   "cell_type": "code",
   "execution_count": 17,
   "id": "8591370f",
   "metadata": {},
   "outputs": [
    {
     "name": "stdout",
     "output_type": "stream",
     "text": [
      "15\n"
     ]
    }
   ],
   "source": [
    "\n",
    "x = 10  # global\n",
    "\n",
    "def add_to_x(y):\n",
    "    # x here refers to the global x (read-only unless declared global)\n",
    "    return x + y\n",
    "\n",
    "print(add_to_x(5))\n",
    "\n",
    "def overwrite_global_example():\n",
    "    # Uncommenting the next line would make this function *rebind* the global x\n",
    "    # global x\n",
    "    x = 99 # local variable\n",
    "    pass\n"
   ]
  },
  {
   "cell_type": "markdown",
   "id": "ecbbbc9e",
   "metadata": {},
   "source": [
    "\n",
    "## 4. Docstrings & simple type hints\n",
    "- **Docstring**: the first string in a function body; shows up in `help()` and IDE tooltips.\n",
    "- **Type hints**: optional annotations that make code easier to read and help with tooling.\n"
   ]
  },
  {
   "cell_type": "code",
   "execution_count": 19,
   "id": "9d3a81f7",
   "metadata": {},
   "outputs": [
    {
     "name": "stdout",
     "output_type": "stream",
     "text": [
      "25.0\n",
      "Help on function fahrenheit_to_celsius in module __main__:\n",
      "\n",
      "fahrenheit_to_celsius(f: float) -> float\n",
      "    Convert Fahrenheit to Celsius.\n",
      "    \n",
      "    Args:\n",
      "        f: Temperature in degrees Fahrenheit.\n",
      "    Returns:\n",
      "        Temperature in degrees Celsius.\n",
      "\n"
     ]
    }
   ],
   "source": [
    "\n",
    "def fahrenheit_to_celsius(f: float) -> float:\n",
    "    \"\"\"Convert Fahrenheit to Celsius.\n",
    "\n",
    "    Args:\n",
    "        f: Temperature in degrees Fahrenheit.\n",
    "    Returns:\n",
    "        Temperature in degrees Celsius.\n",
    "    \"\"\"\n",
    "    return (f - 32) * 5/9\n",
    "\n",
    "print(fahrenheit_to_celsius(77))\n",
    "help(fahrenheit_to_celsius)\n"
   ]
  },
  {
   "cell_type": "markdown",
   "id": "0b8611ac",
   "metadata": {},
   "source": [
    "\n",
    "## 5. Common errors & debugging tips\n",
    "- **Missing return**: function prints something but doesn't return a value when a value is needed.\n",
    "- **Mismatched arguments**: wrong number of args, or wrong order vs. keywords.\n",
    "- **Shadowing names**: using the same name for different things in nested scopes.\n",
    "- **Side effects**: modifying *mutable* arguments (like lists/dicts) unintentionally.\n",
    "\n",
    "**Debugging tips**\n",
    "- Use `print()` to check values (quick & dirty).\n",
    "- Add `assert` statements to check assumptions.\n",
    "- Read tracebacks carefully—Python usually tells you the line and reason.\n"
   ]
  },
  {
   "cell_type": "code",
   "execution_count": null,
   "id": "9bf6a199",
   "metadata": {},
   "outputs": [],
   "source": [
    "\n",
    "def average(values):\n",
    "    \"\"\"Return the arithmetic mean of a non-empty list of numbers.\"\"\"\n",
    "    assert len(values) > 0, \"values must be non-empty\"\n",
    "    return sum(values) / len(values)\n",
    "\n",
    "print(average([1, 2, 3, 4]))\n",
    "# Uncomment to see an assertion error:\n",
    "# print(average([]))\n"
   ]
  },
  {
   "cell_type": "markdown",
   "id": "00559665",
   "metadata": {},
   "source": [
    "\n",
    "## 6. Practice — Your Turn ✍️\n",
    "\n",
    "### A) `hypotenuse(a, b)`\n",
    "Write a function that returns the length of the hypotenuse given legs `a` and `b`.\n",
    "(Recall: c = sqrt(a^2 + b^2))\n",
    "\n",
    "**Starter cell:**"
   ]
  },
  {
   "cell_type": "code",
   "execution_count": 28,
   "id": "1ff9d5e1",
   "metadata": {},
   "outputs": [
    {
     "name": "stdout",
     "output_type": "stream",
     "text": [
      "5.0\n"
     ]
    }
   ],
   "source": [
    "import math\n",
    "# TODO: Implement hypotenuse(a, b)\n",
    "def hypotenuse(a, b):\n",
    "    c = math.sqrt(a**2 + b**2)\n",
    "    return c\n",
    "\n",
    "print(hypotenuse(3, 4))"
   ]
  },
  {
   "cell_type": "code",
   "execution_count": null,
   "id": "1b3a4d06",
   "metadata": {},
   "outputs": [],
   "source": [
    "\n",
    "# Quick tests\n",
    "import math\n",
    "def _approx_equal(x, y, tol=1e-9): return abs(x - y) <= tol\n",
    "assert _approx_equal(hypotenuse(3, 4), 5.0)\n",
    "assert _approx_equal(hypotenuse(5, 12), 13.0)\n",
    "print(\"A) tests passed ✅\")\n"
   ]
  },
  {
   "cell_type": "markdown",
   "id": "adc2578f",
   "metadata": {},
   "source": [
    "\n",
    "### B) `count_vowels(s)`\n",
    "Return the number of vowels (a, e, i, o, u) in a string `s` (case-insensitive).\n"
   ]
  },
  {
   "cell_type": "code",
   "execution_count": null,
   "id": "90e86a3d",
   "metadata": {},
   "outputs": [],
   "source": [
    "\n",
    "# TODO: Implement count_vowels(s)\n",
    "def count_vowels(s):\n",
    "    # your code here\n",
    "    return # your return here\n"
   ]
  },
  {
   "cell_type": "code",
   "execution_count": null,
   "id": "775bd49d",
   "metadata": {},
   "outputs": [],
   "source": [
    "\n",
    "# Quick tests\n",
    "assert count_vowels(\"hello\") == 2\n",
    "assert count_vowels(\"PYTHON\") == 1\n",
    "assert count_vowels(\"Programming\") == 3\n",
    "print(\"B) tests passed ✅\")\n"
   ]
  },
  {
   "cell_type": "markdown",
   "id": "b345c8de",
   "metadata": {},
   "source": [
    "\n",
    "## 7. Stretch Topics (Optional)\n",
    "\n",
    "### Variable arguments: `*args` and `**kwargs`\n",
    "Use these when you don't know ahead of time how many arguments a function might receive.\n"
   ]
  },
  {
   "cell_type": "code",
   "execution_count": null,
   "id": "c69db7af",
   "metadata": {},
   "outputs": [],
   "source": [
    "\n",
    "def summarize(title, *items, **labels):\n",
    "    print(\"Title:\", title)\n",
    "    print(\"Items:\", items)\n",
    "    print(\"Labels:\", labels)\n",
    "\n",
    "summarize(\"Shopping\", \"eggs\", \"flour\", \"milk\", store=\"Market\", budget=25)\n"
   ]
  },
  {
   "cell_type": "markdown",
   "id": "f7787eec",
   "metadata": {},
   "source": [
    "\n",
    "### Anonymous functions (lambdas) and higher-order functions\n"
   ]
  },
  {
   "cell_type": "code",
   "execution_count": null,
   "id": "4735a9c5",
   "metadata": {},
   "outputs": [],
   "source": [
    "\n",
    "# Using a lambda for a quick key function\n",
    "data = [\"apple\", \"fig\", \"banana\", \"kiwi\"]\n",
    "print(sorted(data, key=lambda s: len(s)))\n"
   ]
  },
  {
   "cell_type": "markdown",
   "id": "30368eb8",
   "metadata": {},
   "source": [
    "\n",
    "## 8. Mini‑Project: Grade Helper\n",
    "Write small, single-purpose functions and compose them.\n",
    "\n",
    "**Specs**\n",
    "- `percent(score, total)` → returns a float percent (0–100)\n",
    "- `letter_grade(pct)` → returns \"A\", \"B\", \"C\", \"D\", or \"F\"\n",
    "- `describe(student, score, total)` → returns a string like: `\"Ana: 88.0% (B)\"`\n",
    "\n",
    "> Try to keep each function short and testable.\n"
   ]
  },
  {
   "cell_type": "code",
   "execution_count": null,
   "id": "a6ba3b64",
   "metadata": {},
   "outputs": [],
   "source": [
    "\n",
    "# TODO: Implement the three functions\n",
    "def percent(score, total):\n",
    "    pass\n",
    "\n",
    "def letter_grade(pct):\n",
    "    pass\n",
    "\n",
    "def describe(student, score, total):\n",
    "    pass\n"
   ]
  },
  {
   "cell_type": "code",
   "execution_count": null,
   "id": "ed3068c8",
   "metadata": {},
   "outputs": [],
   "source": [
    "\n",
    "# Quick tests\n",
    "p = percent(44, 50)\n",
    "assert 87.9 < p < 88.1\n",
    "g = letter_grade(p)\n",
    "assert g in {\"A\",\"B\",\"C\",\"D\",\"F\"}\n",
    "s = describe(\"Ana\", 44, 50)\n",
    "assert isinstance(s, str) and \"Ana\" in s\n",
    "print(\"Mini‑project tests ran ✅ (manually inspect outputs for exact formatting)\")\n"
   ]
  },
  {
   "cell_type": "markdown",
   "id": "25d1ac01",
   "metadata": {},
   "source": [
    "\n",
    "## 9. Wrap‑Up & Next Steps\n",
    "- Functions help us reuse code, organize ideas, and test logic.\n",
    "- Prefer clear names, short bodies, and helpful docstrings.\n",
    "- Practice by writing small, composable functions first, then build up.\n",
    "\n",
    "**Next lesson ideas**\n",
    "- Testing with `unittest` or `pytest`\n",
    "- Designing functions with preconditions/postconditions\n",
    "- Reading input files and structuring programs with modules\n"
   ]
  }
 ],
 "metadata": {
  "kernelspec": {
   "display_name": "Python (ocean_py311)",
   "language": "python",
   "name": "ocean_py311"
  },
  "language_info": {
   "codemirror_mode": {
    "name": "ipython",
    "version": 3
   },
   "file_extension": ".py",
   "mimetype": "text/x-python",
   "name": "python",
   "nbconvert_exporter": "python",
   "pygments_lexer": "ipython3",
   "version": "3.11.14"
  }
 },
 "nbformat": 4,
 "nbformat_minor": 5
}
